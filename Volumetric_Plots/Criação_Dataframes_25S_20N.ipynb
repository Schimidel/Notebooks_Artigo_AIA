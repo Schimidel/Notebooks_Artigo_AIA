{
 "cells": [
  {
   "cell_type": "code",
   "execution_count": 1,
   "id": "a8e83688-884b-4354-a06e-d6d54a8e0fcd",
   "metadata": {},
   "outputs": [],
   "source": [
    "import pygmt\n",
    "import pandas as pd\n",
    "import numpy as np\n",
    "import xarray as xr\n",
    "import matplotlib.pyplot as plt\n",
    "import os\n",
    "import gsw"
   ]
  },
  {
   "cell_type": "code",
   "execution_count": 2,
   "id": "f5e7400a-d233-4a07-8b91-6f9787561f09",
   "metadata": {},
   "outputs": [
    {
     "name": "stderr",
     "output_type": "stream",
     "text": [
      "C:\\Users\\gabri\\AppData\\Local\\Temp\\ipykernel_28164\\2214460626.py:28: DeprecationWarning: dropping variables using `drop` is deprecated; use drop_vars.\n",
      "  ds_lev = ds_lev.drop('lev_bnds')\n",
      "C:\\Users\\gabri\\AppData\\Local\\Temp\\ipykernel_28164\\2214460626.py:31: DeprecationWarning: dropping variables using `drop` is deprecated; use drop_vars.\n",
      "  ds_lev = ds_lev.drop('p')\n"
     ]
    },
    {
     "name": "stdout",
     "output_type": "stream",
     "text": [
      "Processamento Concluído: CMIP.CAMS.CAMS-CSM1-0.historical\n"
     ]
    },
    {
     "name": "stderr",
     "output_type": "stream",
     "text": [
      "C:\\Users\\gabri\\AppData\\Local\\Temp\\ipykernel_28164\\2214460626.py:31: DeprecationWarning: dropping variables using `drop` is deprecated; use drop_vars.\n",
      "  ds_lev = ds_lev.drop('p')\n"
     ]
    },
    {
     "name": "stdout",
     "output_type": "stream",
     "text": [
      "Processamento Concluído: CMIP.CNRM-CERFACS.CNRM-ESM2-1.historical\n"
     ]
    },
    {
     "name": "stderr",
     "output_type": "stream",
     "text": [
      "C:\\Users\\gabri\\AppData\\Local\\Temp\\ipykernel_28164\\2214460626.py:28: DeprecationWarning: dropping variables using `drop` is deprecated; use drop_vars.\n",
      "  ds_lev = ds_lev.drop('lev_bnds')\n",
      "C:\\Users\\gabri\\AppData\\Local\\Temp\\ipykernel_28164\\2214460626.py:31: DeprecationWarning: dropping variables using `drop` is deprecated; use drop_vars.\n",
      "  ds_lev = ds_lev.drop('p')\n"
     ]
    },
    {
     "name": "stdout",
     "output_type": "stream",
     "text": [
      "Processamento Concluído: CMIP.IPSL.IPSL-CM6A-LR.historical\n"
     ]
    },
    {
     "name": "stderr",
     "output_type": "stream",
     "text": [
      "C:\\Users\\gabri\\AppData\\Local\\Temp\\ipykernel_28164\\2214460626.py:28: DeprecationWarning: dropping variables using `drop` is deprecated; use drop_vars.\n",
      "  ds_lev = ds_lev.drop('lev_bnds')\n",
      "C:\\Users\\gabri\\AppData\\Local\\Temp\\ipykernel_28164\\2214460626.py:31: DeprecationWarning: dropping variables using `drop` is deprecated; use drop_vars.\n",
      "  ds_lev = ds_lev.drop('p')\n"
     ]
    },
    {
     "name": "stdout",
     "output_type": "stream",
     "text": [
      "Processamento Concluído: CMIP.MIROC.MIROC6.historical\n"
     ]
    },
    {
     "name": "stderr",
     "output_type": "stream",
     "text": [
      "C:\\Users\\gabri\\AppData\\Local\\Temp\\ipykernel_28164\\2214460626.py:28: DeprecationWarning: dropping variables using `drop` is deprecated; use drop_vars.\n",
      "  ds_lev = ds_lev.drop('lev_bnds')\n",
      "C:\\Users\\gabri\\AppData\\Local\\Temp\\ipykernel_28164\\2214460626.py:31: DeprecationWarning: dropping variables using `drop` is deprecated; use drop_vars.\n",
      "  ds_lev = ds_lev.drop('p')\n"
     ]
    },
    {
     "name": "stdout",
     "output_type": "stream",
     "text": [
      "Processamento Concluído: CMIP.NCAR.CESM2.historical\n"
     ]
    },
    {
     "name": "stderr",
     "output_type": "stream",
     "text": [
      "C:\\Users\\gabri\\AppData\\Local\\Temp\\ipykernel_28164\\2214460626.py:28: DeprecationWarning: dropping variables using `drop` is deprecated; use drop_vars.\n",
      "  ds_lev = ds_lev.drop('lev_bnds')\n",
      "C:\\Users\\gabri\\AppData\\Local\\Temp\\ipykernel_28164\\2214460626.py:31: DeprecationWarning: dropping variables using `drop` is deprecated; use drop_vars.\n",
      "  ds_lev = ds_lev.drop('p')\n"
     ]
    },
    {
     "name": "stdout",
     "output_type": "stream",
     "text": [
      "Processamento Concluído: CMIP.NOAA-GFDL.GFDL-ESM4.historical\n"
     ]
    }
   ],
   "source": [
    "# Pasta onde os arquivos estão localizados\n",
    "pasta = 'C:\\\\Users\\\\gabri\\\\Documents\\\\Pasta_Atual\\\\Pasta_CMIP6_TS_Volumetric\\\\Medias_nc\\\\25S_20N'\n",
    "\n",
    "#Pasta para salvar os arquivos\n",
    "saves = \"C:\\\\Users\\\\gabri\\\\Documents\\\\Pasta_Atual\\\\Pasta_CMIP6_TS_Volumetric\\\\Volumetric_Plots_2\\\\Dataframes_25S_20N\"\n",
    "\n",
    "# Lista os arquivos na pasta\n",
    "arquivos = os.listdir(pasta)\n",
    "\n",
    "# Loop pelos arquivos\n",
    "for arquivo in arquivos:\n",
    "    if \"historical\" in arquivo:\n",
    "        caminho_arquivo = os.path.join(pasta, arquivo)\n",
    "        \n",
    "        # Abre o arquivo usando xarray\n",
    "        ds = xr.open_dataset(caminho_arquivo)\n",
    "        \n",
    "        #Transforma a Profundidade para pressão.\n",
    "        ds['p'] = gsw.p_from_z(-ds['lev'], ds['lat'])\n",
    "\n",
    "        #Transforma salinidade preformada para salinidade absoluta.\n",
    "        ds['so'] = gsw.SA_from_Sstar(ds['so'], ds['p'], ds['lon'],ds['lat'])\n",
    "        \n",
    "        #Seleciona o intervalo de profundidade\n",
    "        ds_lev = ds.sel(lev=slice(300, 1500))\n",
    "\n",
    "        if 'lev_bnds' in ds_lev:\n",
    "            ds_lev = ds_lev.drop('lev_bnds')\n",
    "        \n",
    "        if 'p' in ds_lev:\n",
    "            ds_lev = ds_lev.drop('p')\n",
    "        \n",
    "        #Cria a variável volume, de acordo com a área para cada 5m\n",
    "        ds_lev[\"vol\"] = 5 * ds_lev[\"area\"]\n",
    "\n",
    "        #Cria a lista para os intervalos de temperatura \n",
    "        lista_temp = []           #Cria uma lista vazia\n",
    "        i = -2                    #Define um minimo para a temperatura \n",
    "        lista_temp.append(i)      #Adiciona esse minimo a lista\n",
    "        while round(i, 2) < 20:   #Define um máxio para a temperatura, o round é só para garantir que 19.999 seja 20.\n",
    "            i += 0.2\n",
    "            lista_temp.append(round(i, 2))   #round para garantir duas casas decimais e não ex: 2.400002.\n",
    "\n",
    "        #Cria a lista para os intervalos de salinidade--> Mesmas considerações para a lista de temperatura\n",
    "        lista_sal = []\n",
    "        i=33\n",
    "        lista_sal.append(i)\n",
    "        while round(i, 3) < 37:\n",
    "            i+=0.02\n",
    "            lista_sal.append(round(i, 3))\n",
    "            \n",
    "        #Cria um dataframe para armazenar \n",
    "        df_final = pd.DataFrame()\n",
    "\n",
    "        df = ds_lev.to_dataframe().dropna().reset_index()\n",
    "\n",
    "        # Aplica o pd.cut com os limites definidos.\n",
    "        cut_temp = pd.cut(df['thetao'], bins=lista_temp, include_lowest=True)   #Bins separa em 1-1.02; 1.02-1.04 ...\n",
    "        cut_salin = pd.cut(df['so'], bins=lista_sal, include_lowest=True)       ##Bins separa em 1-1.002; 1.002-1.004 ...\n",
    "\n",
    "        # Agrupa os dados pelos cruzamentos das categorias. \n",
    "        agrupado = df.groupby([cut_temp, cut_salin])['vol'].sum().reset_index()\n",
    "\n",
    "        # Concatena meus dados em um dataframe final\n",
    "        df_final = pd.concat([df_final, agrupado], ignore_index=True)\n",
    "\n",
    "        # Cria as listas vazias\n",
    "        thetao_medias = []\n",
    "        so_medias = []\n",
    "\n",
    "        # Calcula as médias dos intervalos e adicionar às listas\n",
    "        for _, row in df_final.iterrows():\n",
    "            thetao_medias.append(row['thetao'].mid)\n",
    "            so_medias.append(row['so'].mid)\n",
    "\n",
    "        # Adiciona as listas como novas colunas ao df_agrupado\n",
    "        df_final['thetao_media'] = thetao_medias\n",
    "        df_final['so_media'] = so_medias\n",
    "\n",
    "        df_final = df_final[[\"thetao_media\", \"so_media\", \"vol\"]]\n",
    "\n",
    "        # Renomeia\n",
    "        df_final.rename(columns={\"thetao_media\": \"thetao\", \"so_media\": \"so\"}, inplace=True)\n",
    "        \n",
    "        # Extrai o nome base do arquivo (sem o caminho)\n",
    "        nome_base = os.path.basename(arquivo)\n",
    "\n",
    "        # Extrai a parte relevante do nome para usar como nome do DataFrame\n",
    "        nome_partes = nome_base.split('.')\n",
    "        nome_dataframe = '.'.join(nome_partes[0:4])\n",
    "        \n",
    "        # Define o caminho de saída para o arquivo parquet com base no nome do DataFrame\n",
    "        caminho_saida = os.path.join(saves, f\"{nome_dataframe}.parquet\")\n",
    "\n",
    "        # Salva o DataFrame em formato parquet\n",
    "        df_final.to_parquet(caminho_saida)\n",
    "        \n",
    "        print('Processamento Concluído: {}'.format(nome_dataframe))\n",
    "        # Fecha o dataset xarray\n",
    "        ds.close()"
   ]
  },
  {
   "cell_type": "markdown",
   "id": "be68a653-a322-4245-88ab-ae0d092026a1",
   "metadata": {},
   "source": [
    "## Criação dataframe SSP585"
   ]
  },
  {
   "cell_type": "code",
   "execution_count": 3,
   "id": "2f17f076-e6e4-4be5-9a44-6a3f4287a7ab",
   "metadata": {},
   "outputs": [
    {
     "name": "stderr",
     "output_type": "stream",
     "text": [
      "C:\\Users\\gabri\\AppData\\Local\\Temp\\ipykernel_17976\\2397048005.py:31: DeprecationWarning: dropping variables using `drop` is deprecated; use drop_vars.\n",
      "  ds_lev = ds_lev.drop('lev_bnds')\n",
      "C:\\Users\\gabri\\AppData\\Local\\Temp\\ipykernel_17976\\2397048005.py:34: DeprecationWarning: dropping variables using `drop` is deprecated; use drop_vars.\n",
      "  ds_lev = ds_lev.drop('p')\n"
     ]
    },
    {
     "name": "stdout",
     "output_type": "stream",
     "text": [
      "Processamento Concluído: ScenarioMIP.CAMS.CAMS-CSM1-0.ssp585\n"
     ]
    },
    {
     "name": "stderr",
     "output_type": "stream",
     "text": [
      "C:\\Users\\gabri\\AppData\\Local\\Temp\\ipykernel_17976\\2397048005.py:34: DeprecationWarning: dropping variables using `drop` is deprecated; use drop_vars.\n",
      "  ds_lev = ds_lev.drop('p')\n"
     ]
    },
    {
     "name": "stdout",
     "output_type": "stream",
     "text": [
      "Processamento Concluído: ScenarioMIP.CNRM-CERFACS.CNRM-ESM2-1.ssp585\n"
     ]
    },
    {
     "name": "stderr",
     "output_type": "stream",
     "text": [
      "C:\\Users\\gabri\\AppData\\Local\\Temp\\ipykernel_17976\\2397048005.py:31: DeprecationWarning: dropping variables using `drop` is deprecated; use drop_vars.\n",
      "  ds_lev = ds_lev.drop('lev_bnds')\n",
      "C:\\Users\\gabri\\AppData\\Local\\Temp\\ipykernel_17976\\2397048005.py:34: DeprecationWarning: dropping variables using `drop` is deprecated; use drop_vars.\n",
      "  ds_lev = ds_lev.drop('p')\n"
     ]
    },
    {
     "name": "stdout",
     "output_type": "stream",
     "text": [
      "Processamento Concluído: ScenarioMIP.IPSL.IPSL-CM6A-LR.ssp585\n"
     ]
    },
    {
     "name": "stderr",
     "output_type": "stream",
     "text": [
      "C:\\Users\\gabri\\AppData\\Local\\Temp\\ipykernel_17976\\2397048005.py:31: DeprecationWarning: dropping variables using `drop` is deprecated; use drop_vars.\n",
      "  ds_lev = ds_lev.drop('lev_bnds')\n",
      "C:\\Users\\gabri\\AppData\\Local\\Temp\\ipykernel_17976\\2397048005.py:34: DeprecationWarning: dropping variables using `drop` is deprecated; use drop_vars.\n",
      "  ds_lev = ds_lev.drop('p')\n"
     ]
    },
    {
     "name": "stdout",
     "output_type": "stream",
     "text": [
      "Processamento Concluído: ScenarioMIP.MIROC.MIROC6.ssp585\n"
     ]
    },
    {
     "name": "stderr",
     "output_type": "stream",
     "text": [
      "C:\\Users\\gabri\\AppData\\Local\\Temp\\ipykernel_17976\\2397048005.py:31: DeprecationWarning: dropping variables using `drop` is deprecated; use drop_vars.\n",
      "  ds_lev = ds_lev.drop('lev_bnds')\n",
      "C:\\Users\\gabri\\AppData\\Local\\Temp\\ipykernel_17976\\2397048005.py:34: DeprecationWarning: dropping variables using `drop` is deprecated; use drop_vars.\n",
      "  ds_lev = ds_lev.drop('p')\n"
     ]
    },
    {
     "name": "stdout",
     "output_type": "stream",
     "text": [
      "Processamento Concluído: ScenarioMIP.NCAR.CESM2.ssp585\n"
     ]
    },
    {
     "name": "stderr",
     "output_type": "stream",
     "text": [
      "C:\\Users\\gabri\\AppData\\Local\\Temp\\ipykernel_17976\\2397048005.py:31: DeprecationWarning: dropping variables using `drop` is deprecated; use drop_vars.\n",
      "  ds_lev = ds_lev.drop('lev_bnds')\n",
      "C:\\Users\\gabri\\AppData\\Local\\Temp\\ipykernel_17976\\2397048005.py:34: DeprecationWarning: dropping variables using `drop` is deprecated; use drop_vars.\n",
      "  ds_lev = ds_lev.drop('p')\n"
     ]
    },
    {
     "name": "stdout",
     "output_type": "stream",
     "text": [
      "Processamento Concluído: ScenarioMIP.NOAA-GFDL.GFDL-ESM4.ssp585\n"
     ]
    }
   ],
   "source": [
    "# Pasta onde os arquivos estão localizados\n",
    "pasta = 'C:\\\\Users\\\\gabri\\\\Documents\\\\Pasta_Atual\\\\Pasta_CMIP6_TS_Volumetric\\\\Medias_nc\\\\25S_20N'\n",
    "\n",
    "#Pasta para salvar os arquivos\n",
    "saves = \"C:\\\\Users\\\\gabri\\\\Documents\\\\Pasta_Atual\\\\Pasta_CMIP6_TS_Volumetric\\\\Volumetric_Plots_2\\\\Dataframes_25S_20N\"\n",
    "\n",
    "# Lista os arquivos na pasta\n",
    "arquivos = os.listdir(pasta)\n",
    "\n",
    "# Loop pelos arquivos\n",
    "for arquivo in arquivos:\n",
    "    if \"ssp585\" in arquivo:\n",
    "        caminho_arquivo = os.path.join(pasta, arquivo)\n",
    "        \n",
    "        # Abre o arquivo usando xarray\n",
    "        ds = xr.open_dataset(caminho_arquivo)\n",
    "        \n",
    "        #Transforma a Profundidade para pressão.\n",
    "        ds['p'] = gsw.p_from_z(-ds['lev'], ds['lat'])\n",
    "\n",
    "        #Transforma salinidade preformada para salinidade absoluta.\n",
    "        ds['so'] = gsw.SA_from_Sstar(ds['so'], ds['p'], ds['lon'],ds['lat'])\n",
    "        \n",
    "        #Seleciona o intervalo de 500 a 1500m\n",
    "        ds_lev = ds.sel(lev=slice(300, 1500))\n",
    "        \n",
    "        #Cria a variável volume, de acordo com a área para cada 5m\n",
    "        ds_lev[\"vol\"] = 5 * ds_lev[\"area\"]\n",
    "        \n",
    "        if 'lev_bnds' in ds_lev:\n",
    "            ds_lev = ds_lev.drop('lev_bnds')\n",
    "        \n",
    "        if 'p' in ds_lev:\n",
    "            ds_lev = ds_lev.drop('p')\n",
    "       \n",
    "        #Cria a lista para os intervalos de temperatura \n",
    "        lista_temp = []\n",
    "        i = -2\n",
    "        lista_temp.append(i)\n",
    "        while round(i, 2) < 20:\n",
    "            i += 0.2\n",
    "            lista_temp.append(round(i, 2))\n",
    "\n",
    "        #Cria a lista para os intervalos de salinidade\n",
    "        lista_sal = []\n",
    "        i=33\n",
    "        lista_sal.append(i)\n",
    "        while round(i, 3) < 37:\n",
    "            i+=0.02\n",
    "            lista_sal.append(round(i, 3))\n",
    "            \n",
    "        #Cria um dataframe para armazenar \n",
    "        df_final = pd.DataFrame()\n",
    "\n",
    "        df = ds_lev.to_dataframe().dropna().reset_index()\n",
    "\n",
    "        # Aplica o pd.cut com os limites definidos\n",
    "        cut_temp = pd.cut(df['thetao'], bins=lista_temp, include_lowest=True)\n",
    "        cut_salin = pd.cut(df['so'], bins=lista_sal, include_lowest=True)\n",
    "\n",
    "        # Agrupa os dados pelos cruzamentos das categorias\n",
    "        agrupado = df.groupby([cut_temp, cut_salin])['vol'].sum().reset_index()\n",
    "\n",
    "        # Concatena meus dados em um dataframe final\n",
    "        df_final = pd.concat([df_final, agrupado], ignore_index=True)\n",
    "\n",
    "        # Cria as listas vazias\n",
    "        thetao_medias = []\n",
    "        so_medias = []\n",
    "\n",
    "        # Calcula as médias dos intervalos e adicionar às listas\n",
    "        for _, row in df_final.iterrows():\n",
    "            thetao_medias.append(row['thetao'].mid)\n",
    "            so_medias.append(row['so'].mid)\n",
    "\n",
    "        # Adiciona as listas como novas colunas ao df_agrupado\n",
    "        df_final['thetao_media'] = thetao_medias\n",
    "        df_final['so_media'] = so_medias\n",
    "\n",
    "        df_final = df_final[[\"thetao_media\", \"so_media\", \"vol\"]]\n",
    "\n",
    "        # Renomeia\n",
    "        df_final.rename(columns={\"thetao_media\": \"thetao\", \"so_media\": \"so\"}, inplace=True)\n",
    "        \n",
    "        # Extrai o nome base do arquivo (sem o caminho)\n",
    "        nome_base = os.path.basename(arquivo)\n",
    "\n",
    "        # Extrai a parte relevante do nome para usar como nome do DataFrame\n",
    "        nome_partes = nome_base.split('.')\n",
    "        nome_dataframe = '.'.join(nome_partes[0:4])\n",
    "        \n",
    "        # Define o caminho de saída para o arquivo parquet com base no nome do DataFrame\n",
    "        caminho_saida = os.path.join(saves, f\"{nome_dataframe}.parquet\")\n",
    "\n",
    "        # Salva o DataFrame em formato parquet\n",
    "        df_final.to_parquet(caminho_saida)\n",
    "        \n",
    "        print('Processamento Concluído: {}'.format(nome_dataframe))\n",
    "        # Fecha o dataset xarray\n",
    "        ds.close()"
   ]
  },
  {
   "cell_type": "code",
   "execution_count": null,
   "id": "6d0d55f5-97a1-4a85-aabb-435197b0cf12",
   "metadata": {},
   "outputs": [],
   "source": []
  }
 ],
 "metadata": {
  "kernelspec": {
   "display_name": "Python (pygmt)",
   "language": "python",
   "name": "pygmt"
  },
  "language_info": {
   "codemirror_mode": {
    "name": "ipython",
    "version": 3
   },
   "file_extension": ".py",
   "mimetype": "text/x-python",
   "name": "python",
   "nbconvert_exporter": "python",
   "pygments_lexer": "ipython3",
   "version": "3.12.2"
  }
 },
 "nbformat": 4,
 "nbformat_minor": 5
}
