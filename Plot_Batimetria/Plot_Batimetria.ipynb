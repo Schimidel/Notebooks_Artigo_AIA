{
 "cells": [
  {
   "cell_type": "markdown",
   "id": "7d3c9ccf-bf19-474a-a2e3-5ccc1250c400",
   "metadata": {},
   "source": [
    "## Link para o arquivo de batimetria: https://www.bodc.ac.uk/data/open_download/gebco/gebco_2024_sub_ice_topo/zip/"
   ]
  },
  {
   "cell_type": "code",
   "execution_count": 2,
   "id": "80be1d95-7ccd-477d-93da-6f9b1365e8f4",
   "metadata": {},
   "outputs": [],
   "source": [
    "import xarray as xr\n",
    "import pygmt\n",
    "import matplotlib.pyplot as plt\n",
    "\n",
    "# Carrega o dataset batimétrico GEBCO\n",
    "bat = xr.open_dataset(\"GEBCO_2023_sub_ice_topo.nc\")\n",
    "\n",
    "# Seleciona a região de interesse entre as latitudes -70 a 30 e longitudes -70 a -10\n",
    "bat = bat.sel(lat=slice(-70, 30), lon=slice(-70, -10))\n",
    "\n",
    "# Reduz a resolução dos dados com média em blocos de 10 graus (coarsen)\n",
    "bat_coarse = bat.coarsen(lat=10, lon=10, boundary='trim').mean()\n",
    "\n",
    "# Seleciona a variável 'elevation' para criar a grade e ajusta valores positivos (terra) dividindo por 10\n",
    "grid = bat_coarse.elevation\n",
    "grid = xr.where(grid > 0, grid / 10, grid)\n"
   ]
  },
  {
   "cell_type": "code",
   "execution_count": null,
   "id": "78c35f3f-bd43-4bfe-9bf8-8c26501e7fd2",
   "metadata": {},
   "outputs": [],
   "source": [
    "fig = pygmt.Figure()\n",
    "\n",
    "# Configurações gerais de mapa e fonte\n",
    "with pygmt.config(FORMAT_GEO_MAP=\"ddd.xxF\", MAP_FRAME_TYPE=\"fancy\", FONT='22p'):\n",
    "    # Cria um gráfico 3D da grade batimétrica\n",
    "    fig.grdview(\n",
    "        grid=grid,  # Grade de elevação criada anteriormente\n",
    "        region=[-69.9, -10.1, -69.9, 29.9, -8248, 5493],  # Define a região e os limites de elevação\n",
    "        perspective=[160, 30],  # Define a perspectiva 3D\n",
    "        frame=[\"xa\", \"yaf\", \"WSnE\"],  # Define o frame do mapa com rótulos nos eixos\n",
    "        projection=\"Q0/0/100c\",  # Projeção em perspectiva 3D\n",
    "        zsize=\"50c\",  # Altura da projeção em relação ao plano\n",
    "        surftype=\"s\",  # Tipo de superfície a ser exibida\n",
    "        interpolation='c',  # Interpolação cúbica dos dados\n",
    "        plane=\"-5500+ggrey\",  # Define o plano de fundo da superfície\n",
    "        cmap=\"geo\",  # Mapa de cores baseado na elevação geográfica\n",
    "    )\n",
    "    \n",
    "    # Adiciona a rosa dos ventos na parte superior (mapa) com um leve deslocamento\n",
    "    fig.basemap(\n",
    "        perspective=True,\n",
    "        rose=\"JBR+w5c+l+o0c/0.5c\"\n",
    "    )\n",
    "\n",
    "# Configurações para a barra de cores\n",
    "with pygmt.config(FONT='20p'):\n",
    "    fig.colorbar(\n",
    "        perspective=True,\n",
    "        frame=[\"a1000\", \"x+lElevation\", \"y+lm\"],  # Rótulos da barra de cores e intervalo\n",
    "        position=\"JRM+o4c+w20/0.5c\",  # Posição e tamanho da barra de cores\n",
    "        truncate=[-5000, 0]  # Limites da barra de cores\n",
    "    )\n",
    "\n",
    "# Exibe o gráfico\n",
    "fig.show()\n",
    "\n",
    "# Salva o gráfico como uma imagem PNG\n",
    "fig.savefig('Batimetria.png')\n"
   ]
  }
 ],
 "metadata": {
  "kernelspec": {
   "display_name": "Python (pygmt)",
   "language": "python",
   "name": "pygmt"
  },
  "language_info": {
   "codemirror_mode": {
    "name": "ipython",
    "version": 3
   },
   "file_extension": ".py",
   "mimetype": "text/x-python",
   "name": "python",
   "nbconvert_exporter": "python",
   "pygments_lexer": "ipython3",
   "version": "3.12.2"
  }
 },
 "nbformat": 4,
 "nbformat_minor": 5
}
