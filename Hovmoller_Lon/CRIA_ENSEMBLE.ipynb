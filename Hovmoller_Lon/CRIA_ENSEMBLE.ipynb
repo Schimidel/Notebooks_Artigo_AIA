{
 "cells": [
  {
   "cell_type": "markdown",
   "id": "40ab6bfd-fe3f-475b-946a-b55f92321494",
   "metadata": {},
   "source": [
    "# Esse notebook cria o ensemble para o diagrama TS e para a média zonal"
   ]
  },
  {
   "cell_type": "code",
   "execution_count": null,
   "id": "bcd0f04e-ab8b-4d05-9395-393593e35961",
   "metadata": {},
   "outputs": [],
   "source": [
    "#Criação do diagrama T-S"
   ]
  },
  {
   "cell_type": "code",
   "execution_count": null,
   "id": "80e831f9-2dd9-4d94-8f2a-cfc2f0027ead",
   "metadata": {},
   "outputs": [],
   "source": [
    "#Dados woa s_an está como salinidade absoluta e c_t é temperatura conservativa\n",
    "\n",
    "import os\n",
    "import glob\n",
    "import matplotlib.pyplot as plt\n",
    "import numpy as np\n",
    "import xarray as xr\n",
    "import gsw\n",
    "\n",
    "# Obtém o diretório atual onde está o notebook\n",
    "pasta_atual = os.path.join(os.path.dirname(os.path.abspath('__file__')), 'Arquivos')\n",
    "\n",
    "# Usa a biblioteca glob para obter todos os arquivos NetCDF na pasta\n",
    "arquivos = glob.glob(os.path.join(pasta_atual, '*.nc'))\n",
    "\n",
    "# Filtra os arquivos para incluir apenas aqueles com \"historical\" no nome\n",
    "arquivos = [arquivo for arquivo in arquivos if \"historical\" in arquivo]\n",
    "\n",
    "# Ordena os arquivos com base no nome do modelo\n",
    "arquivos = sorted(arquivos, key=lambda x: os.path.basename(x).split(\".\")[2])\n",
    "\n",
    "# Loop através dos arquivos\n",
    "for  arquivo in arquivos:\n",
    "    # Abre o conjunto de dados\n",
    "    ds = xr.open_dataset(arquivo)\n",
    "\n",
    "    \n",
    "    # Obtém o nome do modelo a partir do nome do arquivo\n",
    "    modelo = os.path.basename(arquivo).split(\".\")[2]  # Ajuste isso conforme a estrutura dos seus nomes de arquivo\n",
    "    \n",
    "    # Calcula a média zonal\n",
    "    zonal = ds.sel(time=slice(\"1981\", \"2010\")).mean(dim=\"time\")\n",
    "\n",
    "    zonal = zonal[['thetao', 'sa']]\n",
    "    lista.append(zonal)"
   ]
  },
  {
   "cell_type": "code",
   "execution_count": null,
   "id": "d32b7697-5518-47af-a359-7a0238ee5a80",
   "metadata": {},
   "outputs": [],
   "source": [
    "# Concatenando os datasets ao longo de uma nova dimensão\n",
    "combined_ds = xr.concat(lista, dim=\"dataset\")\n",
    "\n",
    "# Calculando a média ao longo da nova dimensão\n",
    "mean_ds = combined_ds.mean(dim=\"dataset\")"
   ]
  },
  {
   "cell_type": "code",
   "execution_count": null,
   "id": "03dae48d-3f50-4419-b6ed-6cf227f2db2b",
   "metadata": {},
   "outputs": [],
   "source": [
    "mean_ds.to_netcdf(\"CMIP.MULTI.Multi_Model.historical.Omon.gn.nc.nc\")"
   ]
  }
 ],
 "metadata": {
  "kernelspec": {
   "display_name": "Python 3 (ipykernel)",
   "language": "python",
   "name": "python3"
  },
  "language_info": {
   "codemirror_mode": {
    "name": "ipython",
    "version": 3
   },
   "file_extension": ".py",
   "mimetype": "text/x-python",
   "name": "python",
   "nbconvert_exporter": "python",
   "pygments_lexer": "ipython3",
   "version": "3.11.7"
  }
 },
 "nbformat": 4,
 "nbformat_minor": 5
}
